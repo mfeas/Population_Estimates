{
 "cells": [
  {
   "cell_type": "code",
   "execution_count": 1,
   "metadata": {},
   "outputs": [],
   "source": [
    "import matplotlib.pyplot as plt\n",
    "import pandas as pd\n",
    "import numpy as np\n",
    "import requests\n",
    "import time\n",
    "from scipy.stats import linregress\n",
    "import scipy.stats as st\n",
    "import json\n",
    "\n",
    "#import the api key\n",
    "from CenKey import CensusKey"
   ]
  },
  {
   "cell_type": "code",
   "execution_count": 2,
   "metadata": {},
   "outputs": [
    {
     "data": {
      "text/html": [
       "<div>\n",
       "<style scoped>\n",
       "    .dataframe tbody tr th:only-of-type {\n",
       "        vertical-align: middle;\n",
       "    }\n",
       "\n",
       "    .dataframe tbody tr th {\n",
       "        vertical-align: top;\n",
       "    }\n",
       "\n",
       "    .dataframe thead th {\n",
       "        text-align: right;\n",
       "    }\n",
       "</style>\n",
       "<table border=\"1\" class=\"dataframe\">\n",
       "  <thead>\n",
       "    <tr style=\"text-align: right;\">\n",
       "      <th></th>\n",
       "      <th>0</th>\n",
       "      <th>1</th>\n",
       "      <th>2</th>\n",
       "    </tr>\n",
       "  </thead>\n",
       "  <tbody>\n",
       "    <tr>\n",
       "      <th>0</th>\n",
       "      <td>POP</td>\n",
       "      <td>NAME</td>\n",
       "      <td>state</td>\n",
       "    </tr>\n",
       "    <tr>\n",
       "      <th>1</th>\n",
       "      <td>4903185</td>\n",
       "      <td>Alabama</td>\n",
       "      <td>01</td>\n",
       "    </tr>\n",
       "    <tr>\n",
       "      <th>2</th>\n",
       "      <td>731545</td>\n",
       "      <td>Alaska</td>\n",
       "      <td>02</td>\n",
       "    </tr>\n",
       "    <tr>\n",
       "      <th>3</th>\n",
       "      <td>7278717</td>\n",
       "      <td>Arizona</td>\n",
       "      <td>04</td>\n",
       "    </tr>\n",
       "    <tr>\n",
       "      <th>4</th>\n",
       "      <td>3017804</td>\n",
       "      <td>Arkansas</td>\n",
       "      <td>05</td>\n",
       "    </tr>\n",
       "    <tr>\n",
       "      <th>5</th>\n",
       "      <td>39512223</td>\n",
       "      <td>California</td>\n",
       "      <td>06</td>\n",
       "    </tr>\n",
       "    <tr>\n",
       "      <th>6</th>\n",
       "      <td>5758736</td>\n",
       "      <td>Colorado</td>\n",
       "      <td>08</td>\n",
       "    </tr>\n",
       "    <tr>\n",
       "      <th>7</th>\n",
       "      <td>973764</td>\n",
       "      <td>Delaware</td>\n",
       "      <td>10</td>\n",
       "    </tr>\n",
       "    <tr>\n",
       "      <th>8</th>\n",
       "      <td>705749</td>\n",
       "      <td>District of Columbia</td>\n",
       "      <td>11</td>\n",
       "    </tr>\n",
       "    <tr>\n",
       "      <th>9</th>\n",
       "      <td>3565287</td>\n",
       "      <td>Connecticut</td>\n",
       "      <td>09</td>\n",
       "    </tr>\n",
       "    <tr>\n",
       "      <th>10</th>\n",
       "      <td>21477737</td>\n",
       "      <td>Florida</td>\n",
       "      <td>12</td>\n",
       "    </tr>\n",
       "    <tr>\n",
       "      <th>11</th>\n",
       "      <td>10617423</td>\n",
       "      <td>Georgia</td>\n",
       "      <td>13</td>\n",
       "    </tr>\n",
       "    <tr>\n",
       "      <th>12</th>\n",
       "      <td>1787065</td>\n",
       "      <td>Idaho</td>\n",
       "      <td>16</td>\n",
       "    </tr>\n",
       "    <tr>\n",
       "      <th>13</th>\n",
       "      <td>1415872</td>\n",
       "      <td>Hawaii</td>\n",
       "      <td>15</td>\n",
       "    </tr>\n",
       "    <tr>\n",
       "      <th>14</th>\n",
       "      <td>12671821</td>\n",
       "      <td>Illinois</td>\n",
       "      <td>17</td>\n",
       "    </tr>\n",
       "    <tr>\n",
       "      <th>15</th>\n",
       "      <td>6732219</td>\n",
       "      <td>Indiana</td>\n",
       "      <td>18</td>\n",
       "    </tr>\n",
       "    <tr>\n",
       "      <th>16</th>\n",
       "      <td>3155070</td>\n",
       "      <td>Iowa</td>\n",
       "      <td>19</td>\n",
       "    </tr>\n",
       "    <tr>\n",
       "      <th>17</th>\n",
       "      <td>2913314</td>\n",
       "      <td>Kansas</td>\n",
       "      <td>20</td>\n",
       "    </tr>\n",
       "    <tr>\n",
       "      <th>18</th>\n",
       "      <td>4467673</td>\n",
       "      <td>Kentucky</td>\n",
       "      <td>21</td>\n",
       "    </tr>\n",
       "    <tr>\n",
       "      <th>19</th>\n",
       "      <td>4648794</td>\n",
       "      <td>Louisiana</td>\n",
       "      <td>22</td>\n",
       "    </tr>\n",
       "    <tr>\n",
       "      <th>20</th>\n",
       "      <td>1344212</td>\n",
       "      <td>Maine</td>\n",
       "      <td>23</td>\n",
       "    </tr>\n",
       "    <tr>\n",
       "      <th>21</th>\n",
       "      <td>6045680</td>\n",
       "      <td>Maryland</td>\n",
       "      <td>24</td>\n",
       "    </tr>\n",
       "    <tr>\n",
       "      <th>22</th>\n",
       "      <td>6892503</td>\n",
       "      <td>Massachusetts</td>\n",
       "      <td>25</td>\n",
       "    </tr>\n",
       "    <tr>\n",
       "      <th>23</th>\n",
       "      <td>9986857</td>\n",
       "      <td>Michigan</td>\n",
       "      <td>26</td>\n",
       "    </tr>\n",
       "    <tr>\n",
       "      <th>24</th>\n",
       "      <td>5639632</td>\n",
       "      <td>Minnesota</td>\n",
       "      <td>27</td>\n",
       "    </tr>\n",
       "    <tr>\n",
       "      <th>25</th>\n",
       "      <td>2976149</td>\n",
       "      <td>Mississippi</td>\n",
       "      <td>28</td>\n",
       "    </tr>\n",
       "    <tr>\n",
       "      <th>26</th>\n",
       "      <td>6137428</td>\n",
       "      <td>Missouri</td>\n",
       "      <td>29</td>\n",
       "    </tr>\n",
       "    <tr>\n",
       "      <th>27</th>\n",
       "      <td>1068778</td>\n",
       "      <td>Montana</td>\n",
       "      <td>30</td>\n",
       "    </tr>\n",
       "    <tr>\n",
       "      <th>28</th>\n",
       "      <td>1934408</td>\n",
       "      <td>Nebraska</td>\n",
       "      <td>31</td>\n",
       "    </tr>\n",
       "    <tr>\n",
       "      <th>29</th>\n",
       "      <td>3080156</td>\n",
       "      <td>Nevada</td>\n",
       "      <td>32</td>\n",
       "    </tr>\n",
       "    <tr>\n",
       "      <th>30</th>\n",
       "      <td>1359711</td>\n",
       "      <td>New Hampshire</td>\n",
       "      <td>33</td>\n",
       "    </tr>\n",
       "    <tr>\n",
       "      <th>31</th>\n",
       "      <td>8882190</td>\n",
       "      <td>New Jersey</td>\n",
       "      <td>34</td>\n",
       "    </tr>\n",
       "    <tr>\n",
       "      <th>32</th>\n",
       "      <td>2096829</td>\n",
       "      <td>New Mexico</td>\n",
       "      <td>35</td>\n",
       "    </tr>\n",
       "    <tr>\n",
       "      <th>33</th>\n",
       "      <td>19453561</td>\n",
       "      <td>New York</td>\n",
       "      <td>36</td>\n",
       "    </tr>\n",
       "    <tr>\n",
       "      <th>34</th>\n",
       "      <td>10488084</td>\n",
       "      <td>North Carolina</td>\n",
       "      <td>37</td>\n",
       "    </tr>\n",
       "    <tr>\n",
       "      <th>35</th>\n",
       "      <td>762062</td>\n",
       "      <td>North Dakota</td>\n",
       "      <td>38</td>\n",
       "    </tr>\n",
       "    <tr>\n",
       "      <th>36</th>\n",
       "      <td>11689100</td>\n",
       "      <td>Ohio</td>\n",
       "      <td>39</td>\n",
       "    </tr>\n",
       "    <tr>\n",
       "      <th>37</th>\n",
       "      <td>3956971</td>\n",
       "      <td>Oklahoma</td>\n",
       "      <td>40</td>\n",
       "    </tr>\n",
       "    <tr>\n",
       "      <th>38</th>\n",
       "      <td>4217737</td>\n",
       "      <td>Oregon</td>\n",
       "      <td>41</td>\n",
       "    </tr>\n",
       "    <tr>\n",
       "      <th>39</th>\n",
       "      <td>12801989</td>\n",
       "      <td>Pennsylvania</td>\n",
       "      <td>42</td>\n",
       "    </tr>\n",
       "    <tr>\n",
       "      <th>40</th>\n",
       "      <td>1059361</td>\n",
       "      <td>Rhode Island</td>\n",
       "      <td>44</td>\n",
       "    </tr>\n",
       "    <tr>\n",
       "      <th>41</th>\n",
       "      <td>5148714</td>\n",
       "      <td>South Carolina</td>\n",
       "      <td>45</td>\n",
       "    </tr>\n",
       "    <tr>\n",
       "      <th>42</th>\n",
       "      <td>884659</td>\n",
       "      <td>South Dakota</td>\n",
       "      <td>46</td>\n",
       "    </tr>\n",
       "    <tr>\n",
       "      <th>43</th>\n",
       "      <td>6829174</td>\n",
       "      <td>Tennessee</td>\n",
       "      <td>47</td>\n",
       "    </tr>\n",
       "    <tr>\n",
       "      <th>44</th>\n",
       "      <td>28995881</td>\n",
       "      <td>Texas</td>\n",
       "      <td>48</td>\n",
       "    </tr>\n",
       "    <tr>\n",
       "      <th>45</th>\n",
       "      <td>623989</td>\n",
       "      <td>Vermont</td>\n",
       "      <td>50</td>\n",
       "    </tr>\n",
       "    <tr>\n",
       "      <th>46</th>\n",
       "      <td>3205958</td>\n",
       "      <td>Utah</td>\n",
       "      <td>49</td>\n",
       "    </tr>\n",
       "    <tr>\n",
       "      <th>47</th>\n",
       "      <td>8535519</td>\n",
       "      <td>Virginia</td>\n",
       "      <td>51</td>\n",
       "    </tr>\n",
       "    <tr>\n",
       "      <th>48</th>\n",
       "      <td>7614893</td>\n",
       "      <td>Washington</td>\n",
       "      <td>53</td>\n",
       "    </tr>\n",
       "    <tr>\n",
       "      <th>49</th>\n",
       "      <td>1792147</td>\n",
       "      <td>West Virginia</td>\n",
       "      <td>54</td>\n",
       "    </tr>\n",
       "    <tr>\n",
       "      <th>50</th>\n",
       "      <td>5822434</td>\n",
       "      <td>Wisconsin</td>\n",
       "      <td>55</td>\n",
       "    </tr>\n",
       "    <tr>\n",
       "      <th>51</th>\n",
       "      <td>578759</td>\n",
       "      <td>Wyoming</td>\n",
       "      <td>56</td>\n",
       "    </tr>\n",
       "    <tr>\n",
       "      <th>52</th>\n",
       "      <td>3193694</td>\n",
       "      <td>Puerto Rico</td>\n",
       "      <td>72</td>\n",
       "    </tr>\n",
       "  </tbody>\n",
       "</table>\n",
       "</div>"
      ],
      "text/plain": [
       "           0                     1      2\n",
       "0        POP                  NAME  state\n",
       "1    4903185               Alabama     01\n",
       "2     731545                Alaska     02\n",
       "3    7278717               Arizona     04\n",
       "4    3017804              Arkansas     05\n",
       "5   39512223            California     06\n",
       "6    5758736              Colorado     08\n",
       "7     973764              Delaware     10\n",
       "8     705749  District of Columbia     11\n",
       "9    3565287           Connecticut     09\n",
       "10  21477737               Florida     12\n",
       "11  10617423               Georgia     13\n",
       "12   1787065                 Idaho     16\n",
       "13   1415872                Hawaii     15\n",
       "14  12671821              Illinois     17\n",
       "15   6732219               Indiana     18\n",
       "16   3155070                  Iowa     19\n",
       "17   2913314                Kansas     20\n",
       "18   4467673              Kentucky     21\n",
       "19   4648794             Louisiana     22\n",
       "20   1344212                 Maine     23\n",
       "21   6045680              Maryland     24\n",
       "22   6892503         Massachusetts     25\n",
       "23   9986857              Michigan     26\n",
       "24   5639632             Minnesota     27\n",
       "25   2976149           Mississippi     28\n",
       "26   6137428              Missouri     29\n",
       "27   1068778               Montana     30\n",
       "28   1934408              Nebraska     31\n",
       "29   3080156                Nevada     32\n",
       "30   1359711         New Hampshire     33\n",
       "31   8882190            New Jersey     34\n",
       "32   2096829            New Mexico     35\n",
       "33  19453561              New York     36\n",
       "34  10488084        North Carolina     37\n",
       "35    762062          North Dakota     38\n",
       "36  11689100                  Ohio     39\n",
       "37   3956971              Oklahoma     40\n",
       "38   4217737                Oregon     41\n",
       "39  12801989          Pennsylvania     42\n",
       "40   1059361          Rhode Island     44\n",
       "41   5148714        South Carolina     45\n",
       "42    884659          South Dakota     46\n",
       "43   6829174             Tennessee     47\n",
       "44  28995881                 Texas     48\n",
       "45    623989               Vermont     50\n",
       "46   3205958                  Utah     49\n",
       "47   8535519              Virginia     51\n",
       "48   7614893            Washington     53\n",
       "49   1792147         West Virginia     54\n",
       "50   5822434             Wisconsin     55\n",
       "51    578759               Wyoming     56\n",
       "52   3193694           Puerto Rico     72"
      ]
     },
     "execution_count": 2,
     "metadata": {},
     "output_type": "execute_result"
    }
   ],
   "source": [
    "#https://api.census.gov/data/2021/pep/population?get=PPOPCHG_CUM2021,NAME,STATE&for=state:*&key={0}\n",
    "#2019 Population census estimations\n",
    "url = \"https://api.census.gov/data/2019/pep/population?get=POP,NAME&for=state:*&key={0}\".format(CensusKey)\n",
    "response = requests.request(\"GET\",url)\n",
    "Data = json.loads(response.text)\n",
    "Population2019 = pd.DataFrame(Data)\n",
    "Population2019"
   ]
  },
  {
   "cell_type": "code",
   "execution_count": 3,
   "metadata": {},
   "outputs": [
    {
     "data": {
      "text/html": [
       "<div>\n",
       "<style scoped>\n",
       "    .dataframe tbody tr th:only-of-type {\n",
       "        vertical-align: middle;\n",
       "    }\n",
       "\n",
       "    .dataframe tbody tr th {\n",
       "        vertical-align: top;\n",
       "    }\n",
       "\n",
       "    .dataframe thead th {\n",
       "        text-align: right;\n",
       "    }\n",
       "</style>\n",
       "<table border=\"1\" class=\"dataframe\">\n",
       "  <thead>\n",
       "    <tr style=\"text-align: right;\">\n",
       "      <th></th>\n",
       "      <th>0</th>\n",
       "      <th>1</th>\n",
       "      <th>2</th>\n",
       "    </tr>\n",
       "  </thead>\n",
       "  <tbody>\n",
       "    <tr>\n",
       "      <th>0</th>\n",
       "      <td>POP</td>\n",
       "      <td>GEONAME</td>\n",
       "      <td>state</td>\n",
       "    </tr>\n",
       "    <tr>\n",
       "      <th>1</th>\n",
       "      <td>4887871</td>\n",
       "      <td>Alabama</td>\n",
       "      <td>01</td>\n",
       "    </tr>\n",
       "    <tr>\n",
       "      <th>2</th>\n",
       "      <td>737438</td>\n",
       "      <td>Alaska</td>\n",
       "      <td>02</td>\n",
       "    </tr>\n",
       "    <tr>\n",
       "      <th>3</th>\n",
       "      <td>7171646</td>\n",
       "      <td>Arizona</td>\n",
       "      <td>04</td>\n",
       "    </tr>\n",
       "    <tr>\n",
       "      <th>4</th>\n",
       "      <td>3013825</td>\n",
       "      <td>Arkansas</td>\n",
       "      <td>05</td>\n",
       "    </tr>\n",
       "    <tr>\n",
       "      <th>5</th>\n",
       "      <td>39557045</td>\n",
       "      <td>California</td>\n",
       "      <td>06</td>\n",
       "    </tr>\n",
       "    <tr>\n",
       "      <th>6</th>\n",
       "      <td>5695564</td>\n",
       "      <td>Colorado</td>\n",
       "      <td>08</td>\n",
       "    </tr>\n",
       "    <tr>\n",
       "      <th>7</th>\n",
       "      <td>3572665</td>\n",
       "      <td>Connecticut</td>\n",
       "      <td>09</td>\n",
       "    </tr>\n",
       "    <tr>\n",
       "      <th>8</th>\n",
       "      <td>967171</td>\n",
       "      <td>Delaware</td>\n",
       "      <td>10</td>\n",
       "    </tr>\n",
       "    <tr>\n",
       "      <th>9</th>\n",
       "      <td>702455</td>\n",
       "      <td>District of Columbia</td>\n",
       "      <td>11</td>\n",
       "    </tr>\n",
       "    <tr>\n",
       "      <th>10</th>\n",
       "      <td>21299325</td>\n",
       "      <td>Florida</td>\n",
       "      <td>12</td>\n",
       "    </tr>\n",
       "    <tr>\n",
       "      <th>11</th>\n",
       "      <td>10519475</td>\n",
       "      <td>Georgia</td>\n",
       "      <td>13</td>\n",
       "    </tr>\n",
       "    <tr>\n",
       "      <th>12</th>\n",
       "      <td>1420491</td>\n",
       "      <td>Hawaii</td>\n",
       "      <td>15</td>\n",
       "    </tr>\n",
       "    <tr>\n",
       "      <th>13</th>\n",
       "      <td>1754208</td>\n",
       "      <td>Idaho</td>\n",
       "      <td>16</td>\n",
       "    </tr>\n",
       "    <tr>\n",
       "      <th>14</th>\n",
       "      <td>12741080</td>\n",
       "      <td>Illinois</td>\n",
       "      <td>17</td>\n",
       "    </tr>\n",
       "    <tr>\n",
       "      <th>15</th>\n",
       "      <td>6691878</td>\n",
       "      <td>Indiana</td>\n",
       "      <td>18</td>\n",
       "    </tr>\n",
       "    <tr>\n",
       "      <th>16</th>\n",
       "      <td>3156145</td>\n",
       "      <td>Iowa</td>\n",
       "      <td>19</td>\n",
       "    </tr>\n",
       "    <tr>\n",
       "      <th>17</th>\n",
       "      <td>2911505</td>\n",
       "      <td>Kansas</td>\n",
       "      <td>20</td>\n",
       "    </tr>\n",
       "    <tr>\n",
       "      <th>18</th>\n",
       "      <td>4468402</td>\n",
       "      <td>Kentucky</td>\n",
       "      <td>21</td>\n",
       "    </tr>\n",
       "    <tr>\n",
       "      <th>19</th>\n",
       "      <td>4659978</td>\n",
       "      <td>Louisiana</td>\n",
       "      <td>22</td>\n",
       "    </tr>\n",
       "    <tr>\n",
       "      <th>20</th>\n",
       "      <td>1338404</td>\n",
       "      <td>Maine</td>\n",
       "      <td>23</td>\n",
       "    </tr>\n",
       "    <tr>\n",
       "      <th>21</th>\n",
       "      <td>6042718</td>\n",
       "      <td>Maryland</td>\n",
       "      <td>24</td>\n",
       "    </tr>\n",
       "    <tr>\n",
       "      <th>22</th>\n",
       "      <td>6902149</td>\n",
       "      <td>Massachusetts</td>\n",
       "      <td>25</td>\n",
       "    </tr>\n",
       "    <tr>\n",
       "      <th>23</th>\n",
       "      <td>9995915</td>\n",
       "      <td>Michigan</td>\n",
       "      <td>26</td>\n",
       "    </tr>\n",
       "    <tr>\n",
       "      <th>24</th>\n",
       "      <td>5611179</td>\n",
       "      <td>Minnesota</td>\n",
       "      <td>27</td>\n",
       "    </tr>\n",
       "    <tr>\n",
       "      <th>25</th>\n",
       "      <td>2986530</td>\n",
       "      <td>Mississippi</td>\n",
       "      <td>28</td>\n",
       "    </tr>\n",
       "    <tr>\n",
       "      <th>26</th>\n",
       "      <td>6126452</td>\n",
       "      <td>Missouri</td>\n",
       "      <td>29</td>\n",
       "    </tr>\n",
       "    <tr>\n",
       "      <th>27</th>\n",
       "      <td>1062305</td>\n",
       "      <td>Montana</td>\n",
       "      <td>30</td>\n",
       "    </tr>\n",
       "    <tr>\n",
       "      <th>28</th>\n",
       "      <td>1929268</td>\n",
       "      <td>Nebraska</td>\n",
       "      <td>31</td>\n",
       "    </tr>\n",
       "    <tr>\n",
       "      <th>29</th>\n",
       "      <td>3034392</td>\n",
       "      <td>Nevada</td>\n",
       "      <td>32</td>\n",
       "    </tr>\n",
       "    <tr>\n",
       "      <th>30</th>\n",
       "      <td>1356458</td>\n",
       "      <td>New Hampshire</td>\n",
       "      <td>33</td>\n",
       "    </tr>\n",
       "    <tr>\n",
       "      <th>31</th>\n",
       "      <td>8908520</td>\n",
       "      <td>New Jersey</td>\n",
       "      <td>34</td>\n",
       "    </tr>\n",
       "    <tr>\n",
       "      <th>32</th>\n",
       "      <td>2095428</td>\n",
       "      <td>New Mexico</td>\n",
       "      <td>35</td>\n",
       "    </tr>\n",
       "    <tr>\n",
       "      <th>33</th>\n",
       "      <td>19542209</td>\n",
       "      <td>New York</td>\n",
       "      <td>36</td>\n",
       "    </tr>\n",
       "    <tr>\n",
       "      <th>34</th>\n",
       "      <td>10383620</td>\n",
       "      <td>North Carolina</td>\n",
       "      <td>37</td>\n",
       "    </tr>\n",
       "    <tr>\n",
       "      <th>35</th>\n",
       "      <td>760077</td>\n",
       "      <td>North Dakota</td>\n",
       "      <td>38</td>\n",
       "    </tr>\n",
       "    <tr>\n",
       "      <th>36</th>\n",
       "      <td>11689442</td>\n",
       "      <td>Ohio</td>\n",
       "      <td>39</td>\n",
       "    </tr>\n",
       "    <tr>\n",
       "      <th>37</th>\n",
       "      <td>3943079</td>\n",
       "      <td>Oklahoma</td>\n",
       "      <td>40</td>\n",
       "    </tr>\n",
       "    <tr>\n",
       "      <th>38</th>\n",
       "      <td>4190713</td>\n",
       "      <td>Oregon</td>\n",
       "      <td>41</td>\n",
       "    </tr>\n",
       "    <tr>\n",
       "      <th>39</th>\n",
       "      <td>12807060</td>\n",
       "      <td>Pennsylvania</td>\n",
       "      <td>42</td>\n",
       "    </tr>\n",
       "    <tr>\n",
       "      <th>40</th>\n",
       "      <td>1057315</td>\n",
       "      <td>Rhode Island</td>\n",
       "      <td>44</td>\n",
       "    </tr>\n",
       "    <tr>\n",
       "      <th>41</th>\n",
       "      <td>5084127</td>\n",
       "      <td>South Carolina</td>\n",
       "      <td>45</td>\n",
       "    </tr>\n",
       "    <tr>\n",
       "      <th>42</th>\n",
       "      <td>882235</td>\n",
       "      <td>South Dakota</td>\n",
       "      <td>46</td>\n",
       "    </tr>\n",
       "    <tr>\n",
       "      <th>43</th>\n",
       "      <td>6770010</td>\n",
       "      <td>Tennessee</td>\n",
       "      <td>47</td>\n",
       "    </tr>\n",
       "    <tr>\n",
       "      <th>44</th>\n",
       "      <td>28701845</td>\n",
       "      <td>Texas</td>\n",
       "      <td>48</td>\n",
       "    </tr>\n",
       "    <tr>\n",
       "      <th>45</th>\n",
       "      <td>3161105</td>\n",
       "      <td>Utah</td>\n",
       "      <td>49</td>\n",
       "    </tr>\n",
       "    <tr>\n",
       "      <th>46</th>\n",
       "      <td>626299</td>\n",
       "      <td>Vermont</td>\n",
       "      <td>50</td>\n",
       "    </tr>\n",
       "    <tr>\n",
       "      <th>47</th>\n",
       "      <td>8517685</td>\n",
       "      <td>Virginia</td>\n",
       "      <td>51</td>\n",
       "    </tr>\n",
       "    <tr>\n",
       "      <th>48</th>\n",
       "      <td>7535591</td>\n",
       "      <td>Washington</td>\n",
       "      <td>53</td>\n",
       "    </tr>\n",
       "    <tr>\n",
       "      <th>49</th>\n",
       "      <td>1805832</td>\n",
       "      <td>West Virginia</td>\n",
       "      <td>54</td>\n",
       "    </tr>\n",
       "    <tr>\n",
       "      <th>50</th>\n",
       "      <td>5813568</td>\n",
       "      <td>Wisconsin</td>\n",
       "      <td>55</td>\n",
       "    </tr>\n",
       "    <tr>\n",
       "      <th>51</th>\n",
       "      <td>577737</td>\n",
       "      <td>Wyoming</td>\n",
       "      <td>56</td>\n",
       "    </tr>\n",
       "    <tr>\n",
       "      <th>52</th>\n",
       "      <td>3195153</td>\n",
       "      <td>Puerto Rico</td>\n",
       "      <td>72</td>\n",
       "    </tr>\n",
       "  </tbody>\n",
       "</table>\n",
       "</div>"
      ],
      "text/plain": [
       "           0                     1      2\n",
       "0        POP               GEONAME  state\n",
       "1    4887871               Alabama     01\n",
       "2     737438                Alaska     02\n",
       "3    7171646               Arizona     04\n",
       "4    3013825              Arkansas     05\n",
       "5   39557045            California     06\n",
       "6    5695564              Colorado     08\n",
       "7    3572665           Connecticut     09\n",
       "8     967171              Delaware     10\n",
       "9     702455  District of Columbia     11\n",
       "10  21299325               Florida     12\n",
       "11  10519475               Georgia     13\n",
       "12   1420491                Hawaii     15\n",
       "13   1754208                 Idaho     16\n",
       "14  12741080              Illinois     17\n",
       "15   6691878               Indiana     18\n",
       "16   3156145                  Iowa     19\n",
       "17   2911505                Kansas     20\n",
       "18   4468402              Kentucky     21\n",
       "19   4659978             Louisiana     22\n",
       "20   1338404                 Maine     23\n",
       "21   6042718              Maryland     24\n",
       "22   6902149         Massachusetts     25\n",
       "23   9995915              Michigan     26\n",
       "24   5611179             Minnesota     27\n",
       "25   2986530           Mississippi     28\n",
       "26   6126452              Missouri     29\n",
       "27   1062305               Montana     30\n",
       "28   1929268              Nebraska     31\n",
       "29   3034392                Nevada     32\n",
       "30   1356458         New Hampshire     33\n",
       "31   8908520            New Jersey     34\n",
       "32   2095428            New Mexico     35\n",
       "33  19542209              New York     36\n",
       "34  10383620        North Carolina     37\n",
       "35    760077          North Dakota     38\n",
       "36  11689442                  Ohio     39\n",
       "37   3943079              Oklahoma     40\n",
       "38   4190713                Oregon     41\n",
       "39  12807060          Pennsylvania     42\n",
       "40   1057315          Rhode Island     44\n",
       "41   5084127        South Carolina     45\n",
       "42    882235          South Dakota     46\n",
       "43   6770010             Tennessee     47\n",
       "44  28701845                 Texas     48\n",
       "45   3161105                  Utah     49\n",
       "46    626299               Vermont     50\n",
       "47   8517685              Virginia     51\n",
       "48   7535591            Washington     53\n",
       "49   1805832         West Virginia     54\n",
       "50   5813568             Wisconsin     55\n",
       "51    577737               Wyoming     56\n",
       "52   3195153           Puerto Rico     72"
      ]
     },
     "execution_count": 3,
     "metadata": {},
     "output_type": "execute_result"
    }
   ],
   "source": [
    "#2018 Population census estimations\n",
    "url = \"https://api.census.gov/data/2018/pep/population?get=POP,GEONAME&for=state:*&key={0}\".format(CensusKey)\n",
    "response = requests.request(\"GET\",url)\n",
    "Data = json.loads(response.text)\n",
    "Population2018 = pd.DataFrame(Data)\n",
    "Population2018"
   ]
  },
  {
   "cell_type": "code",
   "execution_count": null,
   "metadata": {},
   "outputs": [],
   "source": [
    "#2019 Population Race census estimation for White people\n",
    "url = \"https://api.census.gov/data/2019/pep/charagegroups?get=NAME,POP&RACE=1&for=state:*&key={0}\".format(CensusKey)\n",
    "response = requests.request(\"GET\",url)\n",
    "Data = json.loads(response.text)\n",
    "WPeople = pd.DataFrame(Data)\n",
    "WPeople\n",
    "#2019 Population Race census estimation for Black people\n",
    "url = \"https://api.census.gov/data/2019/pep/charagegroups?get=NAME,POP&RACE=2&for=state:*&key={0}\".format(CensusKey)\n",
    "response = requests.request(\"GET\",url)\n",
    "Data = json.loads(response.text)\n",
    "BPeople = pd.DataFrame(Data)\n",
    "BPeople\n",
    "#2019 Population Race census estimation for American Indian and Alaska Native peoples\n",
    "url = \"https://api.census.gov/data/2019/pep/charagegroups?get=NAME,POP&RACE=3&for=state:*&key={0}\".format(CensusKey)\n",
    "response = requests.request(\"GET\",url)\n",
    "Data = json.loads(response.text)\n",
    "AiAnPeople = pd.DataFrame(Data)\n",
    "AiAnPeople\n",
    "#2019 Population Race census estimation for Asian people\n",
    "url = \"https://api.census.gov/data/2019/pep/charagegroups?get=NAME,POP&RACE=4&for=state:*&key={0}\".format(CensusKey)\n",
    "response = requests.request(\"GET\",url)\n",
    "Data = json.loads(response.text)\n",
    "AsPeople = pd.DataFrame(Data)\n",
    "AsPeople\n",
    "#2019 Population Race census estimation for Native Hawaiian and Other Pacific Islander peoples\n",
    "url = \"https://api.census.gov/data/2019/pep/charagegroups?get=NAME,POP&RACE=5&for=state:*&key={0}\".format(CensusKey)\n",
    "response = requests.request(\"GET\",url)\n",
    "Data = json.loads(response.text)\n",
    "HOPPeople = pd.DataFrame(Data)\n",
    "HOPPeople\n"
   ]
  },
  {
   "cell_type": "code",
   "execution_count": null,
   "metadata": {},
   "outputs": [],
   "source": [
    "#2018 Population Race census estimation for White people\n",
    "url = \"https://api.census.gov/data/2018/pep/charagegroups?get=GEONAME,POP&RACE=1&for=state:*&key={0}\".format(CensusKey)\n",
    "response = requests.request(\"GET\",url)\n",
    "Data = json.loads(response.text)\n",
    "WPeople18 = pd.DataFrame(Data)\n",
    "WPeople18\n",
    "#2018 Population Race census estimation for Black people\n",
    "url = \"https://api.census.gov/data/2018/pep/charagegroups?get=GEONAME,POP&RACE=2&for=state:*&key={0}\".format(CensusKey)\n",
    "response = requests.request(\"GET\",url)\n",
    "Data = json.loads(response.text)\n",
    "BPeople18 = pd.DataFrame(Data)\n",
    "BPeople18\n",
    "#2018 Population Race census estimation for American Indian and Alaska Native peoples\n",
    "url = \"https://api.census.gov/data/2018/pep/charagegroups?get=GEONAME,POP&RACE=3&for=state:*&key={0}\".format(CensusKey)\n",
    "response = requests.request(\"GET\",url)\n",
    "Data = json.loads(response.text)\n",
    "AiAnPeople18 = pd.DataFrame(Data)\n",
    "AiAnPeople18\n",
    "#2018 Population Race census estimation for Asian people\n",
    "url = \"https://api.census.gov/data/2018/pep/charagegroups?get=GEONAME,POP&RACE=4&for=state:*&key={0}\".format(CensusKey)\n",
    "response = requests.request(\"GET\",url)\n",
    "Data = json.loads(response.text)\n",
    "AsPeople18 = pd.DataFrame(Data)\n",
    "AsPeople18\n",
    "#2018 Population Race census estimation for Native Hawaiian and Other Pacific Islander peoples\n",
    "url = \"https://api.census.gov/data/2018/pep/charagegroups?get=GEONAME,POP&RACE=5&for=state:*&key={0}\".format(CensusKey)\n",
    "response = requests.request(\"GET\",url)\n",
    "Data = json.loads(response.text)\n",
    "HOPPeople18 = pd.DataFrame(Data)\n",
    "HOPPeople18\n"
   ]
  },
  {
   "cell_type": "code",
   "execution_count": null,
   "metadata": {},
   "outputs": [],
   "source": [
    "Population2019"
   ]
  },
  {
   "cell_type": "markdown",
   "metadata": {},
   "source": [
    "Cleaning Population2019 and Population2018"
   ]
  },
  {
   "cell_type": "code",
   "execution_count": null,
   "metadata": {},
   "outputs": [],
   "source": [
    "#renaming columns and deleting the first column for successful merge\n",
    "Population2019.columns = ['POP2019', 'STATE', 'STATEID']\n",
    "Population2018.columns = ['POP2018', 'STATE', 'STATEID']\n",
    "\n",
    "Population2019 = Population2019.drop(0)\n",
    "Population2018 = Population2018.drop(0)"
   ]
  },
  {
   "cell_type": "code",
   "execution_count": null,
   "metadata": {},
   "outputs": [],
   "source": [
    "Population2019.head(5)"
   ]
  },
  {
   "cell_type": "code",
   "execution_count": null,
   "metadata": {},
   "outputs": [],
   "source": [
    "Population2018.head(5)"
   ]
  },
  {
   "cell_type": "code",
   "execution_count": null,
   "metadata": {},
   "outputs": [],
   "source": [
    "Population2019.info()"
   ]
  },
  {
   "cell_type": "code",
   "execution_count": null,
   "metadata": {},
   "outputs": [],
   "source": [
    "Population2018.info()"
   ]
  },
  {
   "cell_type": "code",
   "execution_count": null,
   "metadata": {},
   "outputs": [],
   "source": [
    "#changing POP2019, POP2018, and STATEID for both df's types from string to numeric values\n",
    "Population2019[\"POP2019\"] = Population2019[\"POP2019\"].astype(int)\n",
    "Population2019[\"STATEID\"] = Population2019[\"STATEID\"].astype(int)\n",
    "\n",
    "Population2018[\"POP2018\"] = Population2018[\"POP2018\"].astype(int)\n",
    "Population2018[\"STATEID\"] = Population2018[\"STATEID\"].astype(int)"
   ]
  },
  {
   "cell_type": "code",
   "execution_count": null,
   "metadata": {},
   "outputs": [],
   "source": [
    "Population2019.info()"
   ]
  },
  {
   "cell_type": "code",
   "execution_count": null,
   "metadata": {},
   "outputs": [],
   "source": [
    "Population2018.info()"
   ]
  },
  {
   "cell_type": "markdown",
   "metadata": {},
   "source": [
    "What is the percentage change in the population for each state in the United States from 2018 to 2019?"
   ]
  },
  {
   "cell_type": "code",
   "execution_count": null,
   "metadata": {},
   "outputs": [],
   "source": [
    "#merging the dfs\n",
    "Population_Changes = pd.merge(Population2019, Population2018, on=['STATE', 'STATEID'])\n",
    "\n",
    "#creating the percentage changes column\n",
    "Population_Changes['PERCENT'] = ((Population_Changes['POP2019'] - Population_Changes['POP2018'])/(Population_Changes['POP2018'].abs()))*100\n",
    "Population_Changes['CHANGE'] = Population_Changes['POP2019'] - Population_Changes['POP2018']\n",
    "Population_Changes = Population_Changes.drop(columns=['POP2019', 'POP2018'])\n",
    "\n",
    "order = ['STATEID', 'STATE', 'CHANGE', 'PERCENT']\n",
    "Population_Changes = Population_Changes[order]\n",
    "\n",
    "Population_Changes.head(5)"
   ]
  },
  {
   "cell_type": "code",
   "execution_count": null,
   "metadata": {},
   "outputs": [],
   "source": [
    "#converting this dataframe into a csv file\n",
    "file_path = 'Population_Changes.csv'\n",
    "Population_Changes.to_csv(file_path, index=False)"
   ]
  },
  {
   "cell_type": "markdown",
   "metadata": {},
   "source": [
    "What is the overall percentage change in the population of the United States from 2018 to 2019?"
   ]
  },
  {
   "cell_type": "code",
   "execution_count": null,
   "metadata": {},
   "outputs": [],
   "source": [
    "#overall population percentage change was 0.32%\n",
    "overall_percent_change = ((Population2019['POP2019'].sum() - Population2018['POP2018'].sum())/abs(Population2018['POP2018'].sum()))*100\n",
    "overall_percent_change"
   ]
  },
  {
   "cell_type": "markdown",
   "metadata": {},
   "source": [
    "Cleaning all of the race dataframes to determine race shifts in the US "
   ]
  },
  {
   "cell_type": "code",
   "execution_count": null,
   "metadata": {},
   "outputs": [],
   "source": [
    "WPeople.head(5)"
   ]
  },
  {
   "cell_type": "code",
   "execution_count": null,
   "metadata": {},
   "outputs": [],
   "source": [
    "WPeople18.head(5)"
   ]
  },
  {
   "cell_type": "code",
   "execution_count": null,
   "metadata": {},
   "outputs": [],
   "source": [
    "#renaming columns for WPeople and WPeople18 and deleting the first column\n",
    "WPeople.columns = ['STATE', 'WHITEPOP19', 'RACEID', 'STATEID']\n",
    "WPeople18.columns = ['STATE', 'WHITEPOP18', 'RACEID', 'STATEID']\n",
    "\n",
    "WPeople = WPeople.drop(0)\n",
    "WPeople18 = WPeople18.drop(0)"
   ]
  },
  {
   "cell_type": "code",
   "execution_count": null,
   "metadata": {},
   "outputs": [],
   "source": [
    "#deleting race id values \n",
    "WPeople = WPeople.drop(columns=['RACEID'])\n",
    "WPeople18 = WPeople18.drop(columns=['RACEID'])"
   ]
  },
  {
   "cell_type": "code",
   "execution_count": null,
   "metadata": {},
   "outputs": [],
   "source": [
    "WPeople.head(5)"
   ]
  },
  {
   "cell_type": "code",
   "execution_count": null,
   "metadata": {},
   "outputs": [],
   "source": [
    "WPeople18.head(5)"
   ]
  },
  {
   "cell_type": "code",
   "execution_count": null,
   "metadata": {},
   "outputs": [],
   "source": [
    "WPeople.info()"
   ]
  },
  {
   "cell_type": "code",
   "execution_count": null,
   "metadata": {},
   "outputs": [],
   "source": [
    "WPeople18.info()"
   ]
  },
  {
   "cell_type": "code",
   "execution_count": null,
   "metadata": {},
   "outputs": [],
   "source": [
    "#changing WHITEPOP18, WHITEPOP19, and STATEID for both df's types from string to numeric values\n",
    "WPeople[\"WHITEPOP19\"] = WPeople[\"WHITEPOP19\"].astype(int)\n",
    "WPeople[\"STATEID\"] = WPeople[\"STATEID\"].astype(int)\n",
    "\n",
    "WPeople18[\"WHITEPOP18\"] = WPeople18[\"WHITEPOP18\"].astype(int)\n",
    "WPeople18[\"STATEID\"] = WPeople18[\"STATEID\"].astype(int)"
   ]
  },
  {
   "cell_type": "code",
   "execution_count": null,
   "metadata": {},
   "outputs": [],
   "source": [
    "WPeople.info()"
   ]
  },
  {
   "cell_type": "code",
   "execution_count": null,
   "metadata": {},
   "outputs": [],
   "source": [
    "WPeople18.info()"
   ]
  },
  {
   "cell_type": "code",
   "execution_count": null,
   "metadata": {},
   "outputs": [],
   "source": [
    "BPeople.head(5)"
   ]
  },
  {
   "cell_type": "code",
   "execution_count": null,
   "metadata": {},
   "outputs": [],
   "source": [
    "BPeople18.head(5)"
   ]
  },
  {
   "cell_type": "code",
   "execution_count": null,
   "metadata": {},
   "outputs": [],
   "source": [
    "#renaming columns for BPeople and BPeople18 and deleting the first column\n",
    "BPeople.columns = ['STATE', 'BLACKPOP19', 'RACEID', 'STATEID']\n",
    "BPeople18.columns = ['STATE', 'BLACKPOP18', 'RACEID', 'STATEID']\n",
    "\n",
    "BPeople = BPeople.drop(0)\n",
    "BPeople18 = BPeople18.drop(0)"
   ]
  },
  {
   "cell_type": "code",
   "execution_count": null,
   "metadata": {},
   "outputs": [],
   "source": [
    "#deleting race id values \n",
    "BPeople = BPeople.drop(columns=['RACEID'])\n",
    "BPeople18 = BPeople18.drop(columns=['RACEID'])"
   ]
  },
  {
   "cell_type": "code",
   "execution_count": null,
   "metadata": {},
   "outputs": [],
   "source": [
    "BPeople.head(5)"
   ]
  },
  {
   "cell_type": "code",
   "execution_count": null,
   "metadata": {},
   "outputs": [],
   "source": [
    "BPeople18.head(5)"
   ]
  },
  {
   "cell_type": "code",
   "execution_count": null,
   "metadata": {},
   "outputs": [],
   "source": [
    "BPeople.info()"
   ]
  },
  {
   "cell_type": "code",
   "execution_count": null,
   "metadata": {},
   "outputs": [],
   "source": [
    "BPeople18.info()"
   ]
  },
  {
   "cell_type": "code",
   "execution_count": null,
   "metadata": {},
   "outputs": [],
   "source": [
    "#changing BLACKPOP18, BLACKPOP19, and STATEID for both df's types from string to numeric values\n",
    "BPeople[\"BLACKPOP19\"] = BPeople[\"BLACKPOP19\"].astype(int)\n",
    "BPeople[\"STATEID\"] = BPeople[\"STATEID\"].astype(int)\n",
    "\n",
    "BPeople18[\"BLACKPOP18\"] = BPeople18[\"BLACKPOP18\"].astype(int)\n",
    "BPeople18[\"STATEID\"] = BPeople18[\"STATEID\"].astype(int)"
   ]
  },
  {
   "cell_type": "code",
   "execution_count": null,
   "metadata": {},
   "outputs": [],
   "source": [
    "BPeople.info()"
   ]
  },
  {
   "cell_type": "code",
   "execution_count": null,
   "metadata": {},
   "outputs": [],
   "source": [
    "BPeople18.info()"
   ]
  },
  {
   "cell_type": "code",
   "execution_count": null,
   "metadata": {},
   "outputs": [],
   "source": [
    "AiAnPeople.head(5)"
   ]
  },
  {
   "cell_type": "code",
   "execution_count": null,
   "metadata": {},
   "outputs": [],
   "source": [
    "AiAnPeople18.head(5)"
   ]
  },
  {
   "cell_type": "code",
   "execution_count": null,
   "metadata": {},
   "outputs": [],
   "source": [
    "#renaming columns for AiAnPeople and AiAnPeople18 and deleting the first column\n",
    "AiAnPeople.columns = ['STATE', 'AIANPOP19', 'RACEID', 'STATEID']\n",
    "AiAnPeople18.columns = ['STATE', 'AIANPOP18', 'RACEID', 'STATEID']\n",
    "\n",
    "AiAnPeople = AiAnPeople.drop(0)\n",
    "AiAnPeople18 = AiAnPeople18.drop(0)"
   ]
  },
  {
   "cell_type": "code",
   "execution_count": null,
   "metadata": {},
   "outputs": [],
   "source": [
    "#deleting race id values \n",
    "AiAnPeople = AiAnPeople.drop(columns=['RACEID'])\n",
    "AiAnPeople18 = AiAnPeople18.drop(columns=['RACEID'])"
   ]
  },
  {
   "cell_type": "code",
   "execution_count": null,
   "metadata": {},
   "outputs": [],
   "source": [
    "AiAnPeople.head(5)"
   ]
  },
  {
   "cell_type": "code",
   "execution_count": null,
   "metadata": {},
   "outputs": [],
   "source": [
    "AiAnPeople18.head(5)"
   ]
  },
  {
   "cell_type": "code",
   "execution_count": null,
   "metadata": {},
   "outputs": [],
   "source": [
    "AiAnPeople.info()"
   ]
  },
  {
   "cell_type": "code",
   "execution_count": null,
   "metadata": {},
   "outputs": [],
   "source": [
    "AiAnPeople18.info()"
   ]
  },
  {
   "cell_type": "code",
   "execution_count": null,
   "metadata": {},
   "outputs": [],
   "source": [
    "#changing AIANPOP18, AIANPOP19, and STATEID for both df's types from string to numeric values\n",
    "AiAnPeople[\"AIANPOP19\"] = AiAnPeople[\"AIANPOP19\"].astype(int)\n",
    "AiAnPeople[\"STATEID\"] = AiAnPeople[\"STATEID\"].astype(int)\n",
    "\n",
    "AiAnPeople18[\"AIANPOP18\"] = AiAnPeople18[\"AIANPOP18\"].astype(int)\n",
    "AiAnPeople18[\"STATEID\"] = AiAnPeople18[\"STATEID\"].astype(int)"
   ]
  },
  {
   "cell_type": "code",
   "execution_count": null,
   "metadata": {},
   "outputs": [],
   "source": [
    "AiAnPeople.info()"
   ]
  },
  {
   "cell_type": "code",
   "execution_count": null,
   "metadata": {},
   "outputs": [],
   "source": [
    "AiAnPeople18.info()"
   ]
  },
  {
   "cell_type": "code",
   "execution_count": null,
   "metadata": {},
   "outputs": [],
   "source": [
    "AsPeople.head(5)"
   ]
  },
  {
   "cell_type": "code",
   "execution_count": null,
   "metadata": {},
   "outputs": [],
   "source": [
    "AsPeople18.head(5)"
   ]
  },
  {
   "cell_type": "code",
   "execution_count": null,
   "metadata": {},
   "outputs": [],
   "source": [
    "#renaming columns for AsPeople and AsPeople18 and deleting the first column\n",
    "AsPeople.columns = ['STATE', 'ASPOP19', 'RACEID', 'STATEID']\n",
    "AsPeople18.columns = ['STATE', 'ASPOP18', 'RACEID', 'STATEID']\n",
    "\n",
    "AsPeople = AsPeople.drop(0)\n",
    "AsPeople18 = AsPeople18.drop(0)"
   ]
  },
  {
   "cell_type": "code",
   "execution_count": null,
   "metadata": {},
   "outputs": [],
   "source": [
    "#deleting race id values \n",
    "AsPeople = AsPeople.drop(columns=['RACEID'])\n",
    "AsPeople18 = AsPeople18.drop(columns=['RACEID'])"
   ]
  },
  {
   "cell_type": "code",
   "execution_count": null,
   "metadata": {},
   "outputs": [],
   "source": [
    "AsPeople.head(5)"
   ]
  },
  {
   "cell_type": "code",
   "execution_count": null,
   "metadata": {},
   "outputs": [],
   "source": [
    "AsPeople18.head(5)"
   ]
  },
  {
   "cell_type": "code",
   "execution_count": null,
   "metadata": {},
   "outputs": [],
   "source": [
    "AsPeople.info()"
   ]
  },
  {
   "cell_type": "code",
   "execution_count": null,
   "metadata": {},
   "outputs": [],
   "source": [
    "AsPeople18.info()"
   ]
  },
  {
   "cell_type": "code",
   "execution_count": null,
   "metadata": {},
   "outputs": [],
   "source": [
    "#changing ASPOP18, ASPOP19, and STATEID for both df's types from string to numeric values\n",
    "AsPeople[\"ASPOP19\"] = AsPeople[\"ASPOP19\"].astype(int)\n",
    "AsPeople[\"STATEID\"] = AsPeople[\"STATEID\"].astype(int)\n",
    "\n",
    "AsPeople18[\"ASPOP18\"] = AsPeople18[\"ASPOP18\"].astype(int)\n",
    "AsPeople18[\"STATEID\"] = AsPeople18[\"STATEID\"].astype(int)"
   ]
  },
  {
   "cell_type": "code",
   "execution_count": null,
   "metadata": {},
   "outputs": [],
   "source": [
    "AsPeople.info()"
   ]
  },
  {
   "cell_type": "code",
   "execution_count": null,
   "metadata": {},
   "outputs": [],
   "source": [
    "AsPeople18.info()"
   ]
  },
  {
   "cell_type": "code",
   "execution_count": null,
   "metadata": {},
   "outputs": [],
   "source": [
    "HOPPeople.head(5)"
   ]
  },
  {
   "cell_type": "code",
   "execution_count": null,
   "metadata": {},
   "outputs": [],
   "source": [
    "HOPPeople18.head(5)"
   ]
  },
  {
   "cell_type": "code",
   "execution_count": null,
   "metadata": {},
   "outputs": [],
   "source": [
    "#renaming columns for HOPPeople and HOPPeople18 and deleting the first column\n",
    "HOPPeople.columns = ['STATE', 'HOPPOP19', 'RACEID', 'STATEID']\n",
    "HOPPeople18.columns = ['STATE', 'HOPPOP18', 'RACEID', 'STATEID']\n",
    "\n",
    "HOPPeople = HOPPeople.drop(0)\n",
    "HOPPeople18 = HOPPeople18.drop(0)"
   ]
  },
  {
   "cell_type": "code",
   "execution_count": null,
   "metadata": {},
   "outputs": [],
   "source": [
    "#deleting race id values \n",
    "HOPPeople = HOPPeople.drop(columns=['RACEID'])\n",
    "HOPPeople18 = HOPPeople18.drop(columns=['RACEID'])"
   ]
  },
  {
   "cell_type": "code",
   "execution_count": null,
   "metadata": {},
   "outputs": [],
   "source": [
    "HOPPeople.head(5)"
   ]
  },
  {
   "cell_type": "code",
   "execution_count": null,
   "metadata": {},
   "outputs": [],
   "source": [
    "HOPPeople18.head(5)"
   ]
  },
  {
   "cell_type": "code",
   "execution_count": null,
   "metadata": {},
   "outputs": [],
   "source": [
    "HOPPeople.info()"
   ]
  },
  {
   "cell_type": "code",
   "execution_count": null,
   "metadata": {},
   "outputs": [],
   "source": [
    "HOPPeople18.info()"
   ]
  },
  {
   "cell_type": "code",
   "execution_count": null,
   "metadata": {},
   "outputs": [],
   "source": [
    "#changing HOPPOP18, HOPPOP19, and STATEID for both df's types from string to numeric values\n",
    "HOPPeople[\"HOPPOP19\"] = HOPPeople[\"HOPPOP19\"].astype(int)\n",
    "HOPPeople[\"STATEID\"] = HOPPeople[\"STATEID\"].astype(int)\n",
    "\n",
    "HOPPeople18[\"HOPPOP18\"] = HOPPeople18[\"HOPPOP18\"].astype(int)\n",
    "HOPPeople18[\"STATEID\"] = HOPPeople18[\"STATEID\"].astype(int)"
   ]
  },
  {
   "cell_type": "code",
   "execution_count": null,
   "metadata": {},
   "outputs": [],
   "source": [
    "HOPPeople.info()"
   ]
  },
  {
   "cell_type": "code",
   "execution_count": null,
   "metadata": {},
   "outputs": [],
   "source": [
    "HOPPeople18.info()"
   ]
  },
  {
   "cell_type": "code",
   "execution_count": null,
   "metadata": {
    "scrolled": true
   },
   "outputs": [],
   "source": [
    "#merging the race dfs\n",
    "Race_Info = pd.merge(HOPPeople18, HOPPeople, on=['STATE', 'STATEID'])\n",
    "Race_Info = pd.merge(Race_Info, AsPeople, on=['STATE', 'STATEID'])\n",
    "Race_Info = pd.merge(Race_Info, AsPeople18, on=['STATE', 'STATEID'])\n",
    "Race_Info = pd.merge(Race_Info, AiAnPeople18, on=['STATE', 'STATEID'])\n",
    "Race_Info = pd.merge(Race_Info, AiAnPeople, on=['STATE', 'STATEID'])\n",
    "Race_Info = pd.merge(Race_Info, BPeople, on=['STATE', 'STATEID'])\n",
    "Race_Info = pd.merge(Race_Info, BPeople18, on=['STATE', 'STATEID'])\n",
    "Race_Info = pd.merge(Race_Info, WPeople, on=['STATE', 'STATEID'])\n",
    "Race_Info = pd.merge(Race_Info, WPeople18, on=['STATE', 'STATEID'])\n",
    "\n",
    "new_order = ['STATEID', 'STATE', 'WHITEPOP18', 'WHITEPOP19', 'BLACKPOP18', 'BLACKPOP19', 'AIANPOP18', 'AIANPOP19', 'ASPOP18', 'ASPOP19', 'HOPPOP18', 'HOPPOP19']\n",
    "Race_Info = Race_Info[new_order]\n",
    "\n",
    "Race_Info.head(5)"
   ]
  },
  {
   "cell_type": "code",
   "execution_count": null,
   "metadata": {},
   "outputs": [],
   "source": [
    "#converting into CSV\n",
    "file_path = 'Race_Info'\n",
    "Race_Info.to_csv(file_path, index=False) "
   ]
  },
  {
   "cell_type": "markdown",
   "metadata": {},
   "source": [
    "What is the racial composition change in the United States from 2018 to 2019?"
   ]
  },
  {
   "cell_type": "code",
   "execution_count": null,
   "metadata": {},
   "outputs": [],
   "source": [
    "#calc the total population for 2018 and 2019\n",
    "total_population_2018 = Population2018['POP2018'].sum()\n",
    "total_population_2019 = Population2019['POP2019'].sum()\n",
    "\n",
    "#calc the percentage distribution for each race in 2018 and 2019\n",
    "white_percentage_2018 = (Race_Info['WHITEPOP18'].sum() / total_population_2018) * 100\n",
    "black_percentage_2018 = (Race_Info['BLACKPOP18'].sum() / total_population_2018) * 100\n",
    "aian_percentage_2018 = (Race_Info['AIANPOP18'].sum() / total_population_2018) * 100\n",
    "asian_percentage_2018 = (Race_Info['ASPOP18'].sum() / total_population_2018) * 100\n",
    "pacific_percentage_2018 = (Race_Info['HOPPOP18'].sum() / total_population_2018) * 100\n",
    "\n",
    "white_percentage_2019 = (Race_Info['WHITEPOP19'].sum() / total_population_2018) * 100\n",
    "black_percentage_2019 = (Race_Info['BLACKPOP19'].sum() / total_population_2018) * 100\n",
    "aian_percentage_2019 = (Race_Info['AIANPOP19'].sum() / total_population_2018) * 100\n",
    "asian_percentage_2019 = (Race_Info['ASPOP19'].sum() / total_population_2018) * 100\n",
    "pacific_percentage_2019 = (Race_Info['HOPPOP19'].sum() / total_population_2018) * 100\n",
    "\n",
    "#calc percentage changes in distribution\n",
    "white_percentage_change = white_percentage_2019 - white_percentage_2018\n",
    "black_percentage_change = black_percentage_2019 - black_percentage_2018\n",
    "aian_percentage_change = aian_percentage_2019 - aian_percentage_2018\n",
    "asian_percentage_change = asian_percentage_2019 - asian_percentage_2018\n",
    "pacific_percentage_change = pacific_percentage_2019 - pacific_percentage_2018\n",
    "\n",
    "data = {\n",
    "    'Race': ['White', 'Black', 'American Indian and Alaska Native', 'Asian', 'Pacific Islander'],\n",
    "    'Percentage Change 2018-2019': [white_percentage_change, black_percentage_change, aian_percentage_change, asian_percentage_change, pacific_percentage_change],\n",
    "    'Population 2018': [Race_Info['WHITEPOP18'].sum(), Race_Info['BLACKPOP18'].sum(), Race_Info['AIANPOP18'].sum(), Race_Info['ASPOP18'].sum(), Race_Info['HOPPOP18'].sum()],\n",
    "    'Population 2019': [Race_Info['WHITEPOP19'].sum(), Race_Info['BLACKPOP19'].sum(), Race_Info['AIANPOP19'].sum(), Race_Info['ASPOP19'].sum(), Race_Info['HOPPOP19'].sum()],\n",
    "    'Racial Percentage 2018': [white_percentage_2018, black_percentage_2018, aian_percentage_2018, asian_percentage_2018, pacific_percentage_2018],\n",
    "    'Racial Percentage 2019': [white_percentage_2019, black_percentage_2019, aian_percentage_2019, asian_percentage_2019, pacific_percentage_2019]\n",
    "}\n",
    "\n",
    "Race_Changes = pd.DataFrame(data)\n",
    "\n",
    "new_order2 = ['Race', 'Population 2018', 'Population 2019', 'Racial Percentage 2018', 'Racial Percentage 2019', 'Percentage Change 2018-2019']\n",
    "Race_Changes = Race_Changes[new_order2]\n",
    "\n",
    "Race_Changes"
   ]
  },
  {
   "cell_type": "code",
   "execution_count": null,
   "metadata": {},
   "outputs": [],
   "source": [
    "#converting into CSV\n",
    "file_path = 'Race_Changes'\n",
    "Race_Changes.to_csv(file_path, index=False) "
   ]
  }
 ],
 "metadata": {
  "kernelspec": {
   "display_name": "Python 3 (ipykernel)",
   "language": "python",
   "name": "python3"
  },
  "language_info": {
   "codemirror_mode": {
    "name": "ipython",
    "version": 3
   },
   "file_extension": ".py",
   "mimetype": "text/x-python",
   "name": "python",
   "nbconvert_exporter": "python",
   "pygments_lexer": "ipython3",
   "version": "3.10.11"
  }
 },
 "nbformat": 4,
 "nbformat_minor": 2
}
